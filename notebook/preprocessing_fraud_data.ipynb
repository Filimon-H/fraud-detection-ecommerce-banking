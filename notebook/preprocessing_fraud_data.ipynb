{
 "cells": [
  {
   "cell_type": "markdown",
   "id": "54f4edde",
   "metadata": {},
   "source": []
  },
  {
   "cell_type": "code",
   "execution_count": 1,
   "id": "2c329355",
   "metadata": {},
   "outputs": [],
   "source": [
    "import sys\n",
    "import os\n",
    "import pandas as pd\n",
    "import numpy as np\n",
    "import matplotlib.pyplot as plt\n",
    "import seaborn as sns\n",
    "\n",
    "sys.path.append(os.path.abspath(os.path.join(os.getcwd(), '..', 'src')))\n",
    "from data_loader import load_fraud_data, load_ip_country_data\n",
    "from preprocessing import convert_timestamps, add_country_column\n",
    "\n",
    "# Load data\n",
    "fraud_df = load_fraud_data(\"../data/Fraud_Data.csv\")\n",
    "ip_df = load_ip_country_data(\"../data/IpAddress_to_Country.csv\")\n",
    "\n",
    "# Clean again to ensure consistency\n",
    "fraud_df = fraud_df.drop_duplicates().dropna()\n"
   ]
  },
  {
   "cell_type": "markdown",
   "id": "d4fa4ce0",
   "metadata": {},
   "source": [
    "Time-Based Feature Engineering"
   ]
  },
  {
   "cell_type": "code",
   "execution_count": 2,
   "id": "3ab5de99",
   "metadata": {},
   "outputs": [
    {
     "name": "stdout",
     "output_type": "stream",
     "text": [
      "✅ Created hour_of_day, day_of_week, time_since_signup.\n"
     ]
    }
   ],
   "source": [
    "fraud_df = convert_timestamps(fraud_df)\n",
    "print(\"✅ Created hour_of_day, day_of_week, time_since_signup.\")\n"
   ]
  },
  {
   "cell_type": "markdown",
   "id": "9b9aa124",
   "metadata": {},
   "source": [
    "IP to Country Mapping"
   ]
  },
  {
   "cell_type": "code",
   "execution_count": 3,
   "id": "36c32ff1",
   "metadata": {},
   "outputs": [
    {
     "name": "stdout",
     "output_type": "stream",
     "text": [
      "🌍 Mapping IP addresses to countries...\n",
      "✅ Added 'country' column to fraud data.\n"
     ]
    },
    {
     "data": {
      "text/html": [
       "<div>\n",
       "<style scoped>\n",
       "    .dataframe tbody tr th:only-of-type {\n",
       "        vertical-align: middle;\n",
       "    }\n",
       "\n",
       "    .dataframe tbody tr th {\n",
       "        vertical-align: top;\n",
       "    }\n",
       "\n",
       "    .dataframe thead th {\n",
       "        text-align: right;\n",
       "    }\n",
       "</style>\n",
       "<table border=\"1\" class=\"dataframe\">\n",
       "  <thead>\n",
       "    <tr style=\"text-align: right;\">\n",
       "      <th></th>\n",
       "      <th>ip_address</th>\n",
       "      <th>ip_integer</th>\n",
       "      <th>country</th>\n",
       "    </tr>\n",
       "  </thead>\n",
       "  <tbody>\n",
       "    <tr>\n",
       "      <th>0</th>\n",
       "      <td>7.327584e+08</td>\n",
       "      <td>732758368</td>\n",
       "      <td>Japan</td>\n",
       "    </tr>\n",
       "    <tr>\n",
       "      <th>1</th>\n",
       "      <td>3.503114e+08</td>\n",
       "      <td>350311387</td>\n",
       "      <td>United States</td>\n",
       "    </tr>\n",
       "    <tr>\n",
       "      <th>2</th>\n",
       "      <td>2.621474e+09</td>\n",
       "      <td>2621473820</td>\n",
       "      <td>United States</td>\n",
       "    </tr>\n",
       "    <tr>\n",
       "      <th>3</th>\n",
       "      <td>3.840542e+09</td>\n",
       "      <td>3840542443</td>\n",
       "      <td>Unknown</td>\n",
       "    </tr>\n",
       "    <tr>\n",
       "      <th>4</th>\n",
       "      <td>4.155831e+08</td>\n",
       "      <td>415583117</td>\n",
       "      <td>United States</td>\n",
       "    </tr>\n",
       "  </tbody>\n",
       "</table>\n",
       "</div>"
      ],
      "text/plain": [
       "     ip_address  ip_integer        country\n",
       "0  7.327584e+08   732758368          Japan\n",
       "1  3.503114e+08   350311387  United States\n",
       "2  2.621474e+09  2621473820  United States\n",
       "3  3.840542e+09  3840542443        Unknown\n",
       "4  4.155831e+08   415583117  United States"
      ]
     },
     "metadata": {},
     "output_type": "display_data"
    }
   ],
   "source": [
    "\n",
    "fraud_df = fraud_df.dropna(subset=['ip_address']).copy()\n",
    "# Add country column\n",
    "print(\"🌍 Mapping IP addresses to countries...\")\n",
    "fraud_df = add_country_column(fraud_df, ip_df)\n",
    "print(\"✅ Added 'country' column to fraud data.\")\n",
    "\n",
    "# Preview result\n",
    "display(fraud_df[['ip_address', 'ip_integer', 'country']].head())\n"
   ]
  },
  {
   "cell_type": "markdown",
   "id": "1f5ba404",
   "metadata": {},
   "source": [
    "Top Countries by Transaction Volume"
   ]
  },
  {
   "cell_type": "code",
   "execution_count": 4,
   "id": "f46996c4",
   "metadata": {},
   "outputs": [
    {
     "name": "stderr",
     "output_type": "stream",
     "text": [
      "C:\\Users\\filimon.hailemariam\\AppData\\Local\\Temp\\ipykernel_15236\\4008955245.py:3: FutureWarning: \n",
      "\n",
      "Passing `palette` without assigning `hue` is deprecated and will be removed in v0.14.0. Assign the `y` variable to `hue` and set `legend=False` for the same effect.\n",
      "\n",
      "  sns.barplot(y=top_countries.index, x=top_countries.values, palette='Blues_d')\n"
     ]
    },
    {
     "data": {
      "image/png": "[encoded data removed]",
      "text/plain": [
       "<Figure size 640x480 with 1 Axes>"
      ]
     },
     "metadata": {},
     "output_type": "display_data"
    }
   ],
   "source": [
    "top_countries = fraud_df['country'].value_counts().head(10)\n",
    "\n",
    "sns.barplot(y=top_countries.index, x=top_countries.values, palette='Blues_d')\n",
    "plt.title(\"Top Countries by Transaction Count\")\n",
    "plt.xlabel(\"Count\")\n",
    "plt.ylabel(\"Country\")\n",
    "plt.show()"
   ]
  },
  {
   "cell_type": "code",
   "execution_count": 5,
   "id": "cc6f6c5c",
   "metadata": {},
   "outputs": [
    {
     "name": "stdout",
     "output_type": "stream",
     "text": [
      "✅ Cleaned data saved to ../data/cleaned_fraud_data.csv\n"
     ]
    }
   ],
   "source": [
    "# Save merged/cleaned data to CSV\n",
    "output_path = \"../data/cleaned_fraud_data.csv\"\n",
    "fraud_df.to_csv(output_path, index=False)\n",
    "\n",
    "print(f\"✅ Cleaned data saved to {output_path}\")\n"
   ]
  },
  {
   "cell_type": "markdown",
   "id": "9eb00585",
   "metadata": {},
   "source": [
    "Time-Based Feature Engineering"
   ]
  },
  {
   "cell_type": "code",
   "execution_count": 6,
   "id": "07e1beec",
   "metadata": {},
   "outputs": [
    {
     "name": "stdout",
     "output_type": "stream",
     "text": [
      "✅ Time-based features created: hour_of_day, day_of_week, time_since_signup\n"
     ]
    }
   ],
   "source": [
    "# Convert timestamps if not done already\n",
    "fraud_df['signup_time'] = pd.to_datetime(fraud_df['signup_time'], errors='coerce')\n",
    "fraud_df['purchase_time'] = pd.to_datetime(fraud_df['purchase_time'], errors='coerce')\n",
    "\n",
    "# Create time features\n",
    "fraud_df['hour_of_day'] = fraud_df['purchase_time'].dt.hour\n",
    "fraud_df['day_of_week'] = fraud_df['purchase_time'].dt.dayofweek\n",
    "fraud_df['time_since_signup'] = (fraud_df['purchase_time'] - fraud_df['signup_time']).dt.total_seconds()\n",
    "\n",
    "print(\"✅ Time-based features created: hour_of_day, day_of_week, time_since_signup\")\n"
   ]
  },
  {
   "cell_type": "markdown",
   "id": "b4784357",
   "metadata": {},
   "source": [
    "Visualize Time-based Fraud Patterns"
   ]
  },
  {
   "cell_type": "code",
   "execution_count": 7,
   "id": "17086eaf",
   "metadata": {},
   "outputs": [
    {
     "data": {
      "image/png": "[encoded data removed]",
      "text/plain": [
       "<Figure size 640x480 with 1 Axes>"
      ]
     },
     "metadata": {},
     "output_type": "display_data"
    },
    {
     "data": {
      "image/png": "[encoded data removed]",
      "text/plain": [
       "<Figure size 640x480 with 1 Axes>"
      ]
     },
     "metadata": {},
     "output_type": "display_data"
    }
   ],
   "source": [
    "sns.histplot(data=fraud_df, x='hour_of_day', hue='class', multiple='stack', bins=24)\n",
    "plt.title(\"Fraud Frequency by Hour of Day\")\n",
    "plt.xlabel(\"Hour\")\n",
    "plt.show()\n",
    "\n",
    "sns.histplot(data=fraud_df, x='time_since_signup', hue='class', bins=50, log_scale=True)\n",
    "plt.title(\"Time Since Signup (Fraud vs Non-Fraud)\")\n",
    "plt.xlabel(\"Seconds\")\n",
    "plt.show()\n"
   ]
  },
  {
   "cell_type": "markdown",
   "id": "91944834",
   "metadata": {},
   "source": [
    "Transaction Frequency & Velocity Features\n",
    "We'll now calculate:\n",
    "How many transactions a user or device makes\n",
    "How quickly those transactions occur"
   ]
  },
  {
   "cell_type": "markdown",
   "id": "caeaa783",
   "metadata": {},
   "source": [
    "Transaction Frequency and Velocity"
   ]
  },
  {
   "cell_type": "code",
   "execution_count": 8,
   "id": "1f406ef0",
   "metadata": {},
   "outputs": [
    {
     "name": "stdout",
     "output_type": "stream",
     "text": [
      "✅ Added: user_transaction_count, device_transaction_count, transactions_last_hour\n"
     ]
    }
   ],
   "source": [
    "# Transaction count per user\n",
    "import numpy as np\n",
    "user_counts = fraud_df['user_id'].value_counts().to_dict()\n",
    "fraud_df['user_transaction_count'] = fraud_df['user_id'].map(user_counts)\n",
    "\n",
    "# Transaction count per device\n",
    "device_counts = fraud_df['device_id'].value_counts().to_dict()\n",
    "fraud_df['device_transaction_count'] = fraud_df['device_id'].map(device_counts)\n",
    "\n",
    "# Velocity: transactions per IP in a short time window (e.g., 1 hour)\n",
    "fraud_df = fraud_df.sort_values(by='purchase_time')\n",
    "fraud_df['purchase_time_unix'] = fraud_df['purchase_time'].astype(np.int64) // 10**9\n",
    "\n",
    "# Rolling transaction count within 1-hour window per IP\n",
    "fraud_df['transactions_last_hour'] = (\n",
    "    fraud_df.groupby('ip_address')['purchase_time_unix']\n",
    "    .transform(lambda x: x.rolling(window=10, min_periods=1).apply(lambda t: (t.max() - t.min()) <= 3600))\n",
    ")\n",
    "\n",
    "print(\"✅ Added: user_transaction_count, device_transaction_count, transactions_last_hour\")\n"
   ]
  },
  {
   "cell_type": "code",
   "execution_count": 10,
   "id": "9a9ac25f",
   "metadata": {},
   "outputs": [
    {
     "name": "stdout",
     "output_type": "stream",
     "text": [
      "✅ Feature-engineered data saved to ../data/engineered_fraud_data.csv\n"
     ]
    }
   ],
   "source": [
    "# Save the feature-engineered dataset\n",
    "output_path = \"../data/engineered_fraud_data.csv\"\n",
    "fraud_df.to_csv(output_path, index=False)\n",
    "\n",
    "print(f\"✅ Feature-engineered data saved to {output_path}\")\n"
   ]
  },
  {
   "cell_type": "markdown",
   "id": "8661230f",
   "metadata": {},
   "source": [
    "Data Transformation :Encode Categorical Features"
   ]
  },
  {
   "cell_type": "code",
   "execution_count": 11,
   "id": "c3d48439",
   "metadata": {},
   "outputs": [
    {
     "name": "stdout",
     "output_type": "stream",
     "text": [
      "✅ One-hot encoding completed. New shape: (151112, 204)\n"
     ]
    }
   ],
   "source": [
    "# Select categorical features to encode\n",
    "categorical_cols = ['source', 'browser', 'sex', 'country']\n",
    "\n",
    "# One-Hot Encode\n",
    "fraud_df_encoded = pd.get_dummies(fraud_df, columns=categorical_cols, drop_first=True)\n",
    "\n",
    "print(f\"✅ One-hot encoding completed. New shape: {fraud_df_encoded.shape}\")\n"
   ]
  },
  {
   "cell_type": "markdown",
   "id": "2f7c89d5",
   "metadata": {},
   "source": [
    "Normalize/Scale Numerical Features"
   ]
  },
  {
   "cell_type": "code",
   "execution_count": 12,
   "id": "1ff9a731",
   "metadata": {},
   "outputs": [
    {
     "name": "stdout",
     "output_type": "stream",
     "text": [
      "✅ Scaled numerical features using MinMaxScaler.\n"
     ]
    }
   ],
   "source": [
    "from sklearn.preprocessing import MinMaxScaler\n",
    "\n",
    "# Define numeric features to scale\n",
    "numeric_features = [\n",
    "    'purchase_value',\n",
    "    'time_since_signup',\n",
    "    'user_transaction_count',\n",
    "    'device_transaction_count'\n",
    "]\n",
    "\n",
    "scaler = MinMaxScaler()\n",
    "fraud_df_encoded[numeric_features] = scaler.fit_transform(fraud_df_encoded[numeric_features])\n",
    "\n",
    "print(\"✅ Scaled numerical features using MinMaxScaler.\")\n"
   ]
  },
  {
   "cell_type": "markdown",
   "id": "f47cbf62",
   "metadata": {},
   "source": [
    "Analyze Class Imbalance"
   ]
  },
  {
   "cell_type": "code",
   "execution_count": 13,
   "id": "53b199fb",
   "metadata": {},
   "outputs": [
    {
     "name": "stdout",
     "output_type": "stream",
     "text": [
      "⚠️ Class Imbalance:\n",
      "class\n",
      "0    136961\n",
      "1     14151\n",
      "Name: count, dtype: int64\n",
      "\n",
      "Class Percentage:\n",
      "class\n",
      "0    0.906354\n",
      "1    0.093646\n",
      "Name: count, dtype: float64\n"
     ]
    },
    {
     "data": {
      "image/png": "[encoded data removed]",
      "text/plain": [
       "<Figure size 640x480 with 1 Axes>"
      ]
     },
     "metadata": {},
     "output_type": "display_data"
    }
   ],
   "source": [
    "class_distribution = fraud_df_encoded['class'].value_counts()\n",
    "class_percent = class_distribution / class_distribution.sum()\n",
    "\n",
    "print(\"⚠️ Class Imbalance:\")\n",
    "print(class_distribution)\n",
    "print(\"\\nClass Percentage:\")\n",
    "print(class_percent)\n",
    "\n",
    "sns.countplot(data=fraud_df_encoded, x='class')\n",
    "plt.title(\"Final Class Distribution\")\n",
    "plt.show()\n"
   ]
  },
  {
   "cell_type": "code",
   "execution_count": 14,
   "id": "86d72313",
   "metadata": {},
   "outputs": [
    {
     "name": "stdout",
     "output_type": "stream",
     "text": [
      "💾 Saved processed data to fraud_data_ready.csv\n"
     ]
    }
   ],
   "source": [
    "# Save ready-to-model dataset\n",
    "fraud_df_encoded.to_csv(\"../data/fraud_data_ready.csv\", index=False)\n",
    "print(\"💾 Saved processed data to fraud_data_ready.csv\")\n"
   ]
  }
 ],
 "metadata": {
  "kernelspec": {
   "display_name": ".venv",
   "language": "python",
   "name": "python3"
  },
  "language_info": {
   "codemirror_mode": {
    "name": "ipython",
    "version": 3
   },
   "file_extension": ".py",
   "mimetype": "text/x-python",
   "name": "python",
   "nbconvert_exporter": "python",
   "pygments_lexer": "ipython3",
   "version": "3.13.1"
  }
 },
 "nbformat": 4,
 "nbformat_minor": 5
}
