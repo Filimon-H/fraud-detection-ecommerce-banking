{
 "cells": [
  {
   "cell_type": "markdown",
   "id": "50acd632",
   "metadata": {},
   "source": [
    "Load libraries and model"
   ]
  },
  {
   "cell_type": "code",
   "execution_count": null,
   "id": "3aa2865d",
   "metadata": {},
   "outputs": [
    {
     "ename": "",
     "evalue": "",
     "output_type": "error",
     "traceback": [
      "\u001b[1;31mThe Kernel crashed while executing code in the current cell or a previous cell. \n",
      "\u001b[1;31mPlease review the code in the cell(s) to identify a possible cause of the failure. \n",
      "\u001b[1;31mClick <a href='https://aka.ms/vscodeJupyterKernelCrash'>here</a> for more info. \n",
      "\u001b[1;31mView Jupyter <a href='command:jupyter.viewOutput'>log</a> for further details."
     ]
    }
   ],
   "source": [
    "import shap\n",
    "import pickle\n",
    "import pandas as pd\n",
    "\n",
    "# Load model\n",
    "with open(\"../models/rf_Credit_model.pkl\", \"rb\") as f:\n",
    "    model = pickle.load(f)\n",
    "\n",
    "# Load dataset\n",
    "X = pd.read_csv(\"../data/creditcard_ready.csv\")  # or creditcard_ready.csv\n",
    "y = X.pop(\"class\")  # or \"Class\"\n"
   ]
  },
  {
   "cell_type": "code",
   "execution_count": null,
   "id": "304fcd44",
   "metadata": {},
   "outputs": [
    {
     "name": "stderr",
     "output_type": "stream",
     "text": [
      "  1%|                   | 4367/302224 [00:14<15:54]       "
     ]
    }
   ],
   "source": [
    "import shap\n",
    "\n",
    "# Ensure X only contains numeric columns\n",
    "X_numeric = X.select_dtypes(include=['number'])\n",
    "\n",
    "# Create SHAP explainer for a tree-based model\n",
    "explainer = shap.Explainer(model, X_numeric)\n",
    "\n",
    "# Compute SHAP values\n",
    "shap_values = explainer(X_numeric)\n",
    "\n",
    "# Show global feature importance\n",
    "shap.plots.bar(shap_values)\n"
   ]
  }
 ],
 "metadata": {
  "kernelspec": {
   "display_name": ".venv",
   "language": "python",
   "name": "python3"
  },
  "language_info": {
   "codemirror_mode": {
    "name": "ipython",
    "version": 3
   },
   "file_extension": ".py",
   "mimetype": "text/x-python",
   "name": "python",
   "nbconvert_exporter": "python",
   "pygments_lexer": "ipython3",
   "version": "3.13.1"
  }
 },
 "nbformat": 4,
 "nbformat_minor": 5
}
