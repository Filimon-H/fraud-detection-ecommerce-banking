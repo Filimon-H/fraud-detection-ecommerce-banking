{
 "cells": [
  {
   "cell_type": "markdown",
   "id": "45924541",
   "metadata": {},
   "source": [
    " Load Preprocessed Data"
   ]
  },
  {
   "cell_type": "code",
   "execution_count": 1,
   "id": "669612ee",
   "metadata": {},
   "outputs": [
    {
     "name": "stdout",
     "output_type": "stream",
     "text": [
      "✅ Loaded credit card dataset.\n"
     ]
    }
   ],
   "source": [
    "import pandas as pd\n",
    "from sklearn.model_selection import train_test_split\n",
    "\n",
    "# Load preprocessed credit card data\n",
    "credit_df = pd.read_csv(\"../data/creditcard_ready.csv\")\n",
    "print(\"✅ Loaded credit card dataset.\")\n"
   ]
  },
  {
   "cell_type": "markdown",
   "id": "f823e69f",
   "metadata": {},
   "source": [
    "Train-Test Split"
   ]
  },
  {
   "cell_type": "code",
   "execution_count": 2,
   "id": "66277fb3",
   "metadata": {},
   "outputs": [
    {
     "name": "stdout",
     "output_type": "stream",
     "text": [
      "Train shape: (226980, 30), Test shape: (56746, 30)\n",
      "Fraud ratio in train: 0.0017, in test: 0.0017\n"
     ]
    }
   ],
   "source": [
    "# Split features and target\n",
    "X = credit_df.drop(columns=['Class'])\n",
    "y = credit_df['Class']\n",
    "\n",
    "# Stratified train-test split\n",
    "X_train, X_test, y_train, y_test = train_test_split(\n",
    "    X, y, test_size=0.2, stratify=y, random_state=42\n",
    ")\n",
    "\n",
    "print(f\"Train shape: {X_train.shape}, Test shape: {X_test.shape}\")\n",
    "print(f\"Fraud ratio in train: {y_train.mean():.4f}, in test: {y_test.mean():.4f}\")\n"
   ]
  },
  {
   "cell_type": "markdown",
   "id": "9740b251",
   "metadata": {},
   "source": [
    "Apply SMOTE"
   ]
  },
  {
   "cell_type": "code",
   "execution_count": 3,
   "id": "99b6019e",
   "metadata": {},
   "outputs": [
    {
     "name": "stdout",
     "output_type": "stream",
     "text": [
      "✅ SMOTE applied.\n",
      "Original train counts:\n",
      "{0: 226602, 1: 378}\n",
      "Balanced train counts:\n",
      "{0: 226602, 1: 226602}\n"
     ]
    }
   ],
   "source": [
    "from imblearn.over_sampling import SMOTE\n",
    "\n",
    "smote = SMOTE(random_state=42)\n",
    "X_train_balanced, y_train_balanced = smote.fit_resample(X_train, y_train)\n",
    "\n",
    "print(\"✅ SMOTE applied.\")\n",
    "print(f\"Original train counts:\\n{y_train.value_counts().to_dict()}\")\n",
    "print(f\"Balanced train counts:\\n{y_train_balanced.value_counts().to_dict()}\")\n"
   ]
  }
 ],
 "metadata": {
  "kernelspec": {
   "display_name": ".venv",
   "language": "python",
   "name": "python3"
  },
  "language_info": {
   "codemirror_mode": {
    "name": "ipython",
    "version": 3
   },
   "file_extension": ".py",
   "mimetype": "text/x-python",
   "name": "python",
   "nbconvert_exporter": "python",
   "pygments_lexer": "ipython3",
   "version": "3.13.1"
  }
 },
 "nbformat": 4,
 "nbformat_minor": 5
}
