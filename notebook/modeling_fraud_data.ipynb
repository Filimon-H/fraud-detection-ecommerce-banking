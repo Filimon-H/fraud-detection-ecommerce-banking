{
 "cells": [
  {
   "cell_type": "markdown",
   "id": "3aeb26c7",
   "metadata": {},
   "source": [
    "Load Preprocessed Data"
   ]
  },
  {
   "cell_type": "code",
   "execution_count": 1,
   "id": "11c3b8a8",
   "metadata": {},
   "outputs": [
    {
     "name": "stdout",
     "output_type": "stream",
     "text": [
      "✅ Loaded preprocessed fraud dataset.\n"
     ]
    }
   ],
   "source": [
    "import pandas as pd\n",
    "from sklearn.model_selection import train_test_split\n",
    "\n",
    "# Load cleaned dataset\n",
    "fraud_df = pd.read_csv(\"../data/fraud_data_ready.csv\")\n",
    "print(\"✅ Loaded preprocessed fraud dataset.\")\n"
   ]
  },
  {
   "cell_type": "markdown",
   "id": "25ef2196",
   "metadata": {},
   "source": [
    "Split Features & Target"
   ]
  },
  {
   "cell_type": "code",
   "execution_count": 2,
   "id": "d7f09413",
   "metadata": {},
   "outputs": [
    {
     "name": "stdout",
     "output_type": "stream",
     "text": [
      "✅ Train shape: (120889, 203), Test shape: (30223, 203)\n",
      "Fraud ratio in train: 0.0936, in test: 0.0936\n"
     ]
    }
   ],
   "source": [
    "# Separate target and features\n",
    "X = fraud_df.drop(columns=['class'])\n",
    "y = fraud_df['class']\n",
    "\n",
    "# Train-test split\n",
    "X_train, X_test, y_train, y_test = train_test_split(\n",
    "    X, y, test_size=0.2, stratify=y, random_state=42\n",
    ")\n",
    "\n",
    "print(f\"✅ Train shape: {X_train.shape}, Test shape: {X_test.shape}\")\n",
    "print(f\"Fraud ratio in train: {y_train.mean():.4f}, in test: {y_test.mean():.4f}\")\n"
   ]
  },
  {
   "cell_type": "code",
   "execution_count": 5,
   "id": "c3042e87",
   "metadata": {},
   "outputs": [
    {
     "name": "stdout",
     "output_type": "stream",
     "text": [
      "✅ SMOTE applied.\n",
      "Original training set: {0: 109568, 1: 11321}\n",
      "Balanced training set: {0: 109568, 1: 109568}\n"
     ]
    }
   ],
   "source": [
    "from imblearn.over_sampling import SMOTE\n",
    "\n",
    "# Drop non-numeric columns before SMOTE\n",
    "non_numeric_cols = ['signup_time', 'purchase_time', 'device_id', 'ip_address']\n",
    "X_train_smote = X_train.drop(columns=non_numeric_cols)\n",
    "\n",
    "# Apply SMOTE on training data only\n",
    "smote = SMOTE(random_state=42)\n",
    "X_train_balanced, y_train_balanced = smote.fit_resample(X_train_smote, y_train)\n",
    "\n",
    "# Show results\n",
    "print(\"✅ SMOTE applied.\")\n",
    "print(f\"Original training set: {y_train.value_counts().to_dict()}\")\n",
    "print(f\"Balanced training set: {y_train_balanced.value_counts().to_dict()}\")\n"
   ]
  },
  {
   "cell_type": "code",
   "execution_count": 6,
   "id": "e0b0105d",
   "metadata": {},
   "outputs": [
    {
     "data": {
      "image/png": "[encoded data removed]",
      "text/plain": [
       "<Figure size 640x480 with 2 Axes>"
      ]
     },
     "metadata": {},
     "output_type": "display_data"
    }
   ],
   "source": [
    "import seaborn as sns\n",
    "import matplotlib.pyplot as plt\n",
    "\n",
    "# Before\n",
    "plt.subplot(1, 2, 1)\n",
    "sns.countplot(x=y_train)\n",
    "plt.title(\"Before SMOTE\")\n",
    "\n",
    "# After\n",
    "plt.subplot(1, 2, 2)\n",
    "sns.countplot(x=y_train_balanced)\n",
    "plt.title(\"After SMOTE\")\n",
    "\n",
    "plt.suptitle(\"Fraud Class Distribution - Training Set\")\n",
    "plt.tight_layout()\n",
    "plt.show()\n"
   ]
  },
  {
   "cell_type": "markdown",
   "id": "fd2e464f",
   "metadata": {},
   "source": [
    "Train Logistic Regression"
   ]
  },
  {
   "cell_type": "code",
   "execution_count": 9,
   "id": "15881283",
   "metadata": {},
   "outputs": [
    {
     "ename": "ModuleNotFoundError",
     "evalue": "No module named 'src'",
     "output_type": "error",
     "traceback": [
      "\u001b[31m---------------------------------------------------------------------------\u001b[39m",
      "\u001b[31mModuleNotFoundError\u001b[39m                       Traceback (most recent call last)",
      "\u001b[36mCell\u001b[39m\u001b[36m \u001b[39m\u001b[32mIn[9]\u001b[39m\u001b[32m, line 2\u001b[39m\n\u001b[32m      1\u001b[39m \u001b[38;5;28;01mfrom\u001b[39;00m\u001b[38;5;250m \u001b[39m\u001b[34;01msklearn\u001b[39;00m\u001b[34;01m.\u001b[39;00m\u001b[34;01mlinear_model\u001b[39;00m\u001b[38;5;250m \u001b[39m\u001b[38;5;28;01mimport\u001b[39;00m LogisticRegression\n\u001b[32m----> \u001b[39m\u001b[32m2\u001b[39m \u001b[38;5;28;01mfrom\u001b[39;00m\u001b[38;5;250m \u001b[39m\u001b[34;01msrc\u001b[39;00m\u001b[34;01m.\u001b[39;00m\u001b[34;01mmodel_utils\u001b[39;00m\u001b[38;5;250m \u001b[39m\u001b[38;5;28;01mimport\u001b[39;00m evaluate_model\n\u001b[32m      4\u001b[39m \u001b[38;5;66;03m# Train logistic regression on SMOTE-balanced data\u001b[39;00m\n\u001b[32m      5\u001b[39m lr_model = LogisticRegression(max_iter=\u001b[32m1000\u001b[39m, random_state=\u001b[32m42\u001b[39m)\n",
      "\u001b[31mModuleNotFoundError\u001b[39m: No module named 'src'"
     ]
    }
   ],
   "source": [
    "from sklearn.linear_model import LogisticRegression\n",
    "from src.model_utils import evaluate_model\n",
    "\n",
    "# Train logistic regression on SMOTE-balanced data\n",
    "lr_model = LogisticRegression(max_iter=1000, random_state=42)\n",
    "lr_model.fit(X_train_balanced, y_train_balanced)\n",
    "\n",
    "# Evaluate on original test set\n",
    "evaluate_model(lr_model, X_test, y_test, model_name=\"Logistic Regression\")\n"
   ]
  }
 ],
 "metadata": {
  "kernelspec": {
   "display_name": ".venv",
   "language": "python",
   "name": "python3"
  },
  "language_info": {
   "codemirror_mode": {
    "name": "ipython",
    "version": 3
   },
   "file_extension": ".py",
   "mimetype": "text/x-python",
   "name": "python",
   "nbconvert_exporter": "python",
   "pygments_lexer": "ipython3",
   "version": "3.13.1"
  }
 },
 "nbformat": 4,
 "nbformat_minor": 5
}
